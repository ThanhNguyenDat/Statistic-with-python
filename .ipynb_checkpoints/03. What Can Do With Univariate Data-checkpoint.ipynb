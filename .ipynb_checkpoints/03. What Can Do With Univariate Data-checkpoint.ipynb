{
 "cells": [
  {
   "cell_type": "markdown",
   "id": "31d02679",
   "metadata": {},
   "source": [
    "# Categorical Data: Tables, Bar Charts & Pie Charts\n",
    "\n",
    "Frequency Tables:\n",
    "* Great for numerical summaries\n",
    "\n",
    "Bar Charts\n",
    "* Great for visualization\n",
    "\n",
    "# Quantitative Data: Histograms\n",
    "\n",
    "### What are Quantitative Variables?\n",
    "Variables that have a numerical value (quantity) that we can perform mathematical operations on\n",
    "\n",
    "Examples: Height, weight, income, test scores, shoe size, number of \"heads\" after 10 coin flips\n",
    "\n",
    "### 4 Main Aspects\n",
    "\n",
    "**Shape -** Overall appearance of histogram. Can be symmetric, bell-shaped, left skewed, right skewed, etc.\n",
    "\n",
    "**Center -** Mean or Median.\n",
    "\n",
    "**Spread -** How far our data spreads, Range, Interquartile Range (IQR), standard deviation, variance.\n",
    "\n",
    "**Outliers -** Data points that fall far from the bulk of the data.\n",
    "\n",
    "# Quantitative Data: Numerical Summaries\n",
    "\n",
    "### 5 number Summary:\n",
    "\n",
    "* Min          : 0%\n",
    "* 1st Quartile : 25%\n",
    "* Median       : 50%\n",
    "* 3rd Quartile : 75%\n",
    "* Max          : 100%\n",
    "\n",
    "**Numerical Summaries:** (also called summary statistics) are used alongside our graphical representation of data to give a first impression of what our data looks like.\n",
    "\n",
    "* IQR   = Q3 - Q1\n",
    "\n",
    "* Range = Max - Min\n",
    "\n",
    "Depeding on the software you are using you may get slightly different numerical summaries.\n",
    "\n",
    "# Standard Score (Empirical Rule)\n",
    "\n",
    "Standard score = (Observation - Mean) / Standard Deviation\n",
    "\n",
    "# Quantitative Data: Boxplots"
   ]
  },
  {
   "cell_type": "code",
   "execution_count": null,
   "id": "d095de6c",
   "metadata": {},
   "outputs": [],
   "source": []
  }
 ],
 "metadata": {
  "kernelspec": {
   "display_name": "Python 3 (ipykernel)",
   "language": "python",
   "name": "python3"
  },
  "language_info": {
   "codemirror_mode": {
    "name": "ipython",
    "version": 3
   },
   "file_extension": ".py",
   "mimetype": "text/x-python",
   "name": "python",
   "nbconvert_exporter": "python",
   "pygments_lexer": "ipython3",
   "version": "3.7.9"
  }
 },
 "nbformat": 4,
 "nbformat_minor": 5
}

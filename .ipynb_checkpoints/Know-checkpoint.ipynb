{
 "cells": [
  {
   "cell_type": "markdown",
   "id": "96ec030b",
   "metadata": {},
   "source": [
    "# Key Terms for Estimates Location\n",
    "\n",
    "## Mean\n",
    "The sum of all values divided by the number of values.\n",
    "\n",
    "Synonym: average\n",
    "\n",
    "$$ Mean = \\overline{x} = \\frac{\\sum_{i=1}^{n} x_{i}}{n} $$ \n",
    "\n",
    "## Trimmed mean\n",
    "The average of all values after dropping a fixed number of extreme values.\n",
    "\n",
    "Synonym: truncated mean\n",
    "\n",
    "$$ Trimmed mean = \\overline{x} = \\frac{\\sum_{i=p+1}^{n-p} x_{i}}{n-2p} $$\n",
    "\n",
    "## Weighted mean\n",
    "The sum of all values times weight divided by the sum of the weights.\n",
    "\n",
    "Synonym: weighted average\n",
    "\n",
    "$$ Weighted mean = \\overline{x_{w}} = \\frac{\\sum_{i=1}^{n} w_{i}x_{i}}{\\sum_{i=1}^{n} w_{i}} $$ \n",
    "\n",
    "## Median\n",
    "The value such that one-half of the data lies above and below.\n",
    "\n",
    "Synonym: 50th percentile\n",
    "\n",
    "## Percentile\n",
    "The value such that P percent of the data lies below.\n",
    "\n",
    "Synonym: quantile\n",
    "\n",
    "## Weighted median\n",
    "The value such that one-half of the sum of the weights lies above and below the sorted data.\n",
    "\n",
    "\n",
    "## Robust\n",
    "Not sensitive to extreme values.\n",
    "\n",
    "Synonym: resistant\n",
    "\n",
    "## Outlier\n",
    "A data value that is veu different from most of the data.\n",
    "\n",
    "Synonym: extreme value"
   ]
  },
  {
   "cell_type": "code",
   "execution_count": 1,
   "id": "6c6dea1e",
   "metadata": {},
   "outputs": [],
   "source": [
    "from pathlib import Path\n",
    "\n",
    "import pandas as pd\n",
    "import numpy as np\n",
    "from scipy.stats import trim_mean\n",
    "from statsmodels import robust\n",
    "import wquantiles\n",
    "\n",
    "import seaborn as sns\n",
    "import matplotlib.pylab as plt\n"
   ]
  },
  {
   "cell_type": "code",
   "execution_count": 2,
   "id": "736c605a",
   "metadata": {},
   "outputs": [
    {
     "data": {
      "text/plain": [
       "6162876.3"
      ]
     },
     "execution_count": 2,
     "metadata": {},
     "output_type": "execute_result"
    }
   ],
   "source": [
    "state = pd.read_csv('data/state.csv')\n",
    "state['Population'].mean()"
   ]
  },
  {
   "cell_type": "code",
   "execution_count": 3,
   "id": "8ed1b3ba",
   "metadata": {},
   "outputs": [
    {
     "data": {
      "text/plain": [
       "4783697.125"
      ]
     },
     "execution_count": 3,
     "metadata": {},
     "output_type": "execute_result"
    }
   ],
   "source": [
    "trim_mean(state['Population'], 0.1)"
   ]
  },
  {
   "cell_type": "code",
   "execution_count": 5,
   "id": "f2e88221",
   "metadata": {},
   "outputs": [
    {
     "data": {
      "text/plain": [
       "4436369.5"
      ]
     },
     "execution_count": 5,
     "metadata": {},
     "output_type": "execute_result"
    }
   ],
   "source": [
    "state['Population'].median()"
   ]
  },
  {
   "cell_type": "code",
   "execution_count": 6,
   "id": "daed722f",
   "metadata": {},
   "outputs": [
    {
     "data": {
      "text/plain": [
       "4.445833981123393"
      ]
     },
     "execution_count": 6,
     "metadata": {},
     "output_type": "execute_result"
    }
   ],
   "source": [
    "np.average(state['Murder.Rate'], weights=state['Population'])"
   ]
  },
  {
   "cell_type": "code",
   "execution_count": 7,
   "id": "aecdea34",
   "metadata": {},
   "outputs": [
    {
     "data": {
      "text/plain": [
       "4.4"
      ]
     },
     "execution_count": 7,
     "metadata": {},
     "output_type": "execute_result"
    }
   ],
   "source": [
    "wquantiles.median(state['Murder.Rate'], weights=state['Population'])"
   ]
  },
  {
   "cell_type": "code",
   "execution_count": null,
   "id": "dcc19cfd",
   "metadata": {},
   "outputs": [],
   "source": []
  },
  {
   "cell_type": "code",
   "execution_count": null,
   "id": "6968a735",
   "metadata": {},
   "outputs": [],
   "source": []
  },
  {
   "cell_type": "markdown",
   "id": "04752f9f",
   "metadata": {},
   "source": [
    "# Key Terms for Variability Metrics\n",
    "\n",
    "## Deviations\n",
    "The difference between the observed values and the estimate of location.\n",
    "\n",
    "Synonyms: error, residuals\n",
    "\n",
    "## Variance\n",
    "The sum of squared deviations from the mean divided by n-1 where n is the number of data values.\n",
    "\n",
    "Synonym: mean-squared-error\n",
    "\n",
    "$$ Variance = s^{2} = \\frac{\\sum_{i=1}^{n}(x_{i}-\\overline{x})^2}{n-1} $$\n",
    "\n",
    "## Standard deviation\n",
    "The square root of the variance.\n",
    "\n",
    "$$ Standard deviation = s = \\sqrt{Variance} $$\n",
    "\n",
    "## Mean absolute deviation\n",
    "The mean of the absolute values of the deviations from the mean.\n",
    "\n",
    "Synonyms: l1-norm, Manhattan norm\n",
    "\n",
    "$$ Mean absolute deviation = \\frac{\\sum_{i=1}^{n} | x_{i} = \\overline{x} | }{1}$$\n",
    "\n",
    "## Median absolute deviation from the median\n",
    "The median of the absolute values of the deviations from the median\n",
    "\n",
    "## Range\n",
    "The difference between the largest and the smallest value in a data set.\n",
    "\n",
    "## Order statistics\n",
    "Metrics based on the data values sorted from smallest to biggest.\n",
    "\n",
    "Synonyms: ranks\n",
    "\n",
    "## Percentile\n",
    "The value such that P percent of the values take on this vlaue or less and (100-P) percent take on this value or more.\n",
    "\n",
    "Synonym: quantile\n",
    "\n",
    "## Interquartile range\n",
    "The difference between the 75th percentile and the 25th percentile.\n",
    "\n",
    "Synonym: IQR"
   ]
  },
  {
   "cell_type": "code",
   "execution_count": 9,
   "id": "4ed2a196",
   "metadata": {},
   "outputs": [
    {
     "data": {
      "text/plain": [
       "6848235.347401142"
      ]
     },
     "execution_count": 9,
     "metadata": {},
     "output_type": "execute_result"
    }
   ],
   "source": [
    "state['Population'].std()"
   ]
  },
  {
   "cell_type": "code",
   "execution_count": 10,
   "id": "19c5e99c",
   "metadata": {},
   "outputs": [
    {
     "data": {
      "text/plain": [
       "4847308.0"
      ]
     },
     "execution_count": 10,
     "metadata": {},
     "output_type": "execute_result"
    }
   ],
   "source": [
    "state['Population'].quantile(.75) - state['Population'].quantile(.25)"
   ]
  },
  {
   "cell_type": "code",
   "execution_count": 11,
   "id": "4a013646",
   "metadata": {},
   "outputs": [
    {
     "data": {
      "text/plain": [
       "3849876.1459979336"
      ]
     },
     "execution_count": 11,
     "metadata": {},
     "output_type": "execute_result"
    }
   ],
   "source": [
    "robust.scale.mad(state['Population'])"
   ]
  },
  {
   "cell_type": "markdown",
   "id": "feb98a1d",
   "metadata": {},
   "source": [
    "# Key Terms for Exploring the Distribution\n",
    "\n",
    "## Boxplot\n",
    "A plot introduced by Tukey as a quick way to visualize the distribution of data.\n",
    "\n",
    "Synonym: box and whiskers plot\n",
    "\n",
    "## Frequency table\n",
    "A tally of the count of numeric data values that fall into a set of intervals (bins).\n",
    "\n",
    "## Histogram\n",
    "A plot of the frequency table with the bins on the x-axis and the count (or proportion) on the y-axis. While visually similar, bar charts should not be confused with histograms.\n",
    "\n",
    "## Density plot\n",
    "A smoothed version of the histogram, often based on a kernel density estimate."
   ]
  },
  {
   "cell_type": "code",
   "execution_count": 13,
   "id": "fc6b347c",
   "metadata": {},
   "outputs": [
    {
     "data": {
      "text/plain": [
       "0.05    1.600\n",
       "0.25    2.425\n",
       "0.50    4.000\n",
       "0.75    5.550\n",
       "0.95    6.510\n",
       "Name: Murder.Rate, dtype: float64"
      ]
     },
     "execution_count": 13,
     "metadata": {},
     "output_type": "execute_result"
    }
   ],
   "source": [
    "state['Murder.Rate'].quantile([.05, .25, .5, .75, .95])"
   ]
  },
  {
   "cell_type": "code",
   "execution_count": 17,
   "id": "43289c8b",
   "metadata": {},
   "outputs": [
    {
     "data": {
      "text/plain": [
       "Text(0, 0.5, 'Population (millions)')"
      ]
     },
     "execution_count": 17,
     "metadata": {},
     "output_type": "execute_result"
    },
    {
     "data": {
      "image/png": "[encoded data removed]",
      "text/plain": [
       "<Figure size 432x288 with 1 Axes>"
      ]
     },
     "metadata": {
      "needs_background": "light"
     },
     "output_type": "display_data"
    }
   ],
   "source": [
    "# Boxplot\n",
    "ax = (state['Population']/1_000_000).plot.box()\n",
    "ax.set_ylabel('Population (millions)')"
   ]
  },
  {
   "cell_type": "code",
   "execution_count": 18,
   "id": "0677e551",
   "metadata": {},
   "outputs": [
    {
     "data": {
      "text/plain": [
       "(526935.67, 4232659.0]      24\n",
       "(4232659.0, 7901692.0]      14\n",
       "(7901692.0, 11570725.0]      6\n",
       "(11570725.0, 15239758.0]     2\n",
       "(15239758.0, 18908791.0]     1\n",
       "(18908791.0, 22577824.0]     1\n",
       "(22577824.0, 26246857.0]     1\n",
       "(33584923.0, 37253956.0]     1\n",
       "(26246857.0, 29915890.0]     0\n",
       "(29915890.0, 33584923.0]     0\n",
       "Name: Population, dtype: int64"
      ]
     },
     "execution_count": 18,
     "metadata": {},
     "output_type": "execute_result"
    }
   ],
   "source": [
    "# Frequency tables and histograms\n",
    "binnedPopulation = pd.cut(state['Population'], 10)\n",
    "binnedPopulation.value_counts()"
   ]
  },
  {
   "cell_type": "code",
   "execution_count": 19,
   "id": "9e94cfbb",
   "metadata": {},
   "outputs": [
    {
     "data": {
      "text/plain": [
       "Text(0.5, 0, 'Population (millions)')"
      ]
     },
     "execution_count": 19,
     "metadata": {},
     "output_type": "execute_result"
    },
    {
     "data": {
      "image/png": "[encoded data removed]",
      "text/plain": [
       "<Figure size 288x288 with 1 Axes>"
      ]
     },
     "metadata": {
      "needs_background": "light"
     },
     "output_type": "display_data"
    }
   ],
   "source": [
    "ax = (state['Population'] / 1_000_000).plot.hist(figsize=(4, 4))\n",
    "ax.set_xlabel('Population (millions)')"
   ]
  },
  {
   "cell_type": "code",
   "execution_count": 21,
   "id": "6827d1d8",
   "metadata": {},
   "outputs": [
    {
     "data": {
      "text/plain": [
       "Text(0.5, 0, 'Murder Rate (per 100,000)')"
      ]
     },
     "execution_count": 21,
     "metadata": {},
     "output_type": "execute_result"
    },
    {
     "data": {
      "image/png": "[encoded data removed]",
      "text/plain": [
       "<Figure size 432x288 with 1 Axes>"
      ]
     },
     "metadata": {
      "needs_background": "light"
     },
     "output_type": "display_data"
    }
   ],
   "source": [
    "# Density plots and Estimates\n",
    "ax = state['Murder.Rate'].plot.hist(density=True, xlim=[0, 12], bins=range(1, 12))\n",
    "state['Murder.Rate'].plot.density(ax=ax)\n",
    "ax.set_xlabel('Murder Rate (per 100,000)')"
   ]
  },
  {
   "cell_type": "markdown",
   "id": "62acb4b7",
   "metadata": {},
   "source": [
    "# Key Terms for Exploring Categorical Data\n",
    "\n",
    "## Mode\n",
    "The most commonly occurring category or value in a data set.\n",
    "\n",
    "## Expected value\n",
    "When the categories can be associated with a numeric value, this gives an average value based on a category's probability of occurrence.\n",
    "\n",
    "## Bar charts\n",
    "The frequency or proportion for each category plotted as bars.\n",
    "\n",
    "## Pie charts\n",
    "The frequency or proportion for each category plotted as wedges in a pie."
   ]
  },
  {
   "cell_type": "code",
   "execution_count": 25,
   "id": "321cfbea",
   "metadata": {},
   "outputs": [
    {
     "name": "stdout",
     "output_type": "stream",
     "text": [
      "     Carrier        ATC   Weather  Security    Inbound\n",
      "0  23.022989  30.400781  4.025214  0.122937  42.428079\n"
     ]
    },
    {
     "data": {
      "text/plain": [
       "Text(0, 0.5, 'Count')"
      ]
     },
     "execution_count": 25,
     "metadata": {},
     "output_type": "execute_result"
    },
    {
     "data": {
      "image/png": "[encoded data removed]",
      "text/plain": [
       "<Figure size 288x288 with 1 Axes>"
      ]
     },
     "metadata": {
      "needs_background": "light"
     },
     "output_type": "display_data"
    }
   ],
   "source": [
    "dfw = pd.read_csv(\"data/dfw_airline.csv\")\n",
    "print(100 * dfw / dfw.values.sum())\n",
    "\n",
    "ax = dfw.transpose().plot.bar(figsize=(4, 4), legend=False)\n",
    "ax.set_xlabel('Cause of delay')\n",
    "ax.set_ylabel('Count')"
   ]
  },
  {
   "cell_type": "markdown",
   "id": "38b38899",
   "metadata": {},
   "source": [
    "### Key Ideas\n",
    "* Categorical data is typically summed up in proportions and can be visualized in a bar chart.\n",
    "* Categories might represent distinct things (apples and oranges, male and female), levels of a factor variable (low, medium, and high), or numeric data that has been binned.\n",
    "* Expected value is the sum of values times their probability probability of occurrence, often used to sum up factor variable levels."
   ]
  },
  {
   "cell_type": "markdown",
   "id": "308b866c",
   "metadata": {},
   "source": [
    "# Key Terms for Correlation\n",
    "\n",
    "## Correlation coefficient\n",
    "A metric that measures the extent to which numeric variables are associated with one another (ranges from -1 to +1).\n",
    "\n",
    "$$ r = \\frac{\\sum_{i=1}^{n} (x_{i} - \\overline{x})(y_{i}-\\overline{y}}{(n-1)s_{x}s_{y}} $$\n",
    "\n",
    "## Correlation matrix\n",
    "A table where the variables are shown on both rows and columns, and the cell values are the correlations between the variables.\n",
    "\n",
    "## Scatterplot\n",
    "A plot in which the x-axis is the value of one variable, and the y-axis the value of another."
   ]
  },
  {
   "cell_type": "code",
   "execution_count": 28,
   "id": "ab60e367",
   "metadata": {},
   "outputs": [
    {
     "data": {
      "text/plain": [
       "<matplotlib.axes._subplots.AxesSubplot at 0x7f990ff0a910>"
      ]
     },
     "execution_count": 28,
     "metadata": {},
     "output_type": "execute_result"
    },
    {
     "data": {
      "image/png": "[encoded data removed]",
      "text/plain": [
       "<Figure size 432x288 with 2 Axes>"
      ]
     },
     "metadata": {
      "needs_background": "light"
     },
     "output_type": "display_data"
    }
   ],
   "source": [
    "sp500_sym = pd.read_csv('data/sp500_sectors.csv')\n",
    "sp500_px = pd.read_csv(\"data/sp500_data.csv.gz\", index_col=0)\n",
    "etfs = sp500_px.loc[sp500_px.index > '2012-07-01', \\\n",
    "                   sp500_sym[sp500_sym['sector'] == 'etf']['symbol']]\n",
    "\n",
    "sns.heatmap(etfs.corr(), vmin=-1, vmax=1,\\\n",
    "           cmap=sns.diverging_palette(20, 220, as_cmap=True))"
   ]
  },
  {
   "cell_type": "code",
   "execution_count": 31,
   "id": "48c81652",
   "metadata": {},
   "outputs": [
    {
     "name": "stdout",
     "output_type": "stream",
     "text": [
      "             T       CTL       FTR        VZ      LVLT\n",
      "T     1.000000  0.474683  0.327767  0.677612  0.278626\n",
      "CTL   0.474683  1.000000  0.419757  0.416604  0.286665\n",
      "FTR   0.327767  0.419757  1.000000  0.287386  0.260068\n",
      "VZ    0.677612  0.416604  0.287386  1.000000  0.242199\n",
      "LVLT  0.278626  0.286665  0.260068  0.242199  1.000000\n"
     ]
    }
   ],
   "source": [
    "# Scatterplots\n",
    "# Determine telecommunications symbols\n",
    "telecomSymbols = sp500_sym[sp500_sym['sector'] == 'telecommunications_services']['symbol']\n",
    "\n",
    "# Filter data for dates July 2012 through June 2015\n",
    "telecom = sp500_px.loc[sp500_px.index >= '2012-07-01', telecomSymbols]\n",
    "print(telecom.corr())"
   ]
  },
  {
   "cell_type": "code",
   "execution_count": 32,
   "id": "a9308d09",
   "metadata": {},
   "outputs": [
    {
     "data": {
      "text/plain": [
       "<matplotlib.lines.Line2D at 0x7f990fa6a610>"
      ]
     },
     "execution_count": 32,
     "metadata": {},
     "output_type": "execute_result"
    },
    {
     "data": {
      "image/png": "[encoded data removed]",
      "text/plain": [
       "<Figure size 288x288 with 1 Axes>"
      ]
     },
     "metadata": {
      "needs_background": "light"
     },
     "output_type": "display_data"
    }
   ],
   "source": [
    "ax = telecom.plot.scatter(x='T', y='VZ', figsize=(4, 4), marker='$\\u25EF$')\n",
    "ax.set_xlabel('ATT (T)')\n",
    "ax.set_ylabel('Verizon (VZ)')\n",
    "ax.axhline(0, color='grey', lw=1)\n",
    "ax.axvline(0, color='grey', lw=1)"
   ]
  },
  {
   "cell_type": "markdown",
   "id": "5e6a7354",
   "metadata": {},
   "source": [
    "### Key Ideas\n",
    "* The correlation coefficient measures the extent to which two paired variables (e.g., height and weight for individuals) are associated with one another.\n",
    "* When high values of v1 go with high values of v2, v1 and v2 are positively associated.\n",
    "* When high values of v1 go with low values of v2, v1 and v2 are negatively associated.\n",
    "* The correlation coefficient is a standardized metric, so that it always ranges from -1 (perfect negative correlation) to +1 (perfect position correlation).\n",
    "* A correlation coefficient of zero indicates no correlation, but be aware that random arrangements of data will produce both positive and negative values for the correlation coefficient just by chance."
   ]
  },
  {
   "cell_type": "markdown",
   "id": "142941c3",
   "metadata": {},
   "source": [
    "# Key Terms for Exploring Two or More Variables\n",
    "\n",
    "## Contingency table\n",
    "A tally of counts between two or more categorical variables.\n",
    "\n",
    "## Hexagonal binning\n",
    "A plot of two numeric variables with the records binned into hexagons.\n",
    "\n",
    "## Contour plot\n",
    "A plot showing the density of two numberic variables like a topographical map.\n",
    "\n",
    "## Violin plot\n",
    "Similar to boxplot but showing the density estimate."
   ]
  },
  {
   "cell_type": "code",
   "execution_count": 34,
   "id": "12cda4bf",
   "metadata": {},
   "outputs": [
    {
     "name": "stdout",
     "output_type": "stream",
     "text": [
      "(432693, 3)\n"
     ]
    }
   ],
   "source": [
    "kc_tax = pd.read_csv('data/kc_tax.csv.gz')\n",
    "kc_tax0 = kc_tax.loc[(kc_tax.TaxAssessedValue < 750000) & \n",
    "                     (kc_tax.SqFtTotLiving > 100) &\n",
    "                     (kc_tax.SqFtTotLiving < 3500), :]\n",
    "print(kc_tax0.shape)\n"
   ]
  },
  {
   "cell_type": "code",
   "execution_count": 35,
   "id": "ed0f9e69",
   "metadata": {},
   "outputs": [
    {
     "data": {
      "text/plain": [
       "Text(0, 0.5, 'Tax-Assessed Value')"
      ]
     },
     "execution_count": 35,
     "metadata": {},
     "output_type": "execute_result"
    },
    {
     "data": {
      "image/png": "[encoded data removed]",
      "text/plain": [
       "<Figure size 360x288 with 2 Axes>"
      ]
     },
     "metadata": {
      "needs_background": "light"
     },
     "output_type": "display_data"
    }
   ],
   "source": [
    "# Hexagonal Binning and Contours (Plotting Numeric Versus Numeric Data)\n",
    "ax = kc_tax0.plot.hexbin(x='SqFtTotLiving', y='TaxAssessedValue',\\\n",
    "                        gridsize=30, sharex=False, figsize=(5, 4))\n",
    "\n",
    "ax.set_xlabel('Finished Square Feet')\n",
    "ax.set_ylabel('Tax-Assessed Value')"
   ]
  },
  {
   "cell_type": "code",
   "execution_count": 37,
   "id": "3d986cd5",
   "metadata": {},
   "outputs": [
    {
     "name": "stderr",
     "output_type": "stream",
     "text": [
      "/home/dtnguyen/.local/lib/python3.8/site-packages/seaborn/_decorators.py:36: FutureWarning: Pass the following variable as a keyword arg: y. From version 0.12, the only valid positional argument will be `data`, and passing other arguments without an explicit keyword will result in an error or misinterpretation.\n",
      "  warnings.warn(\n"
     ]
    }
   ],
   "source": [
    "ax = sns.kdeplot(kc_tax0.SqFtTotLiving, kc_tax0.TaxAssessedValue, ax=ax)\n",
    "ax.set_xlabel('Finished Square Feet')\n",
    "ax.set_ylabel('Tax-Assessed Value')\n",
    "plt.show()"
   ]
  },
  {
   "cell_type": "code",
   "execution_count": 38,
   "id": "55952087",
   "metadata": {},
   "outputs": [
    {
     "name": "stdout",
     "output_type": "stream",
     "text": [
      "status  Charged Off  Current  Fully Paid  Late     All\n",
      "grade                                                 \n",
      "A              1562    50051       20408   469   72490\n",
      "B              5302    93852       31160  2056  132370\n",
      "C              6023    88928       23147  2777  120875\n",
      "D              5007    53281       13681  2308   74277\n",
      "E              2842    24639        5949  1374   34804\n",
      "F              1526     8444        2328   606   12904\n",
      "G               409     1990         643   199    3241\n",
      "All           22671   321185       97316  9789  450961\n"
     ]
    }
   ],
   "source": [
    "# Two Categorical Variables\n",
    "lc_loans = pd.read_csv('data/lc_loans.csv')\n",
    "\n",
    "crosstab = lc_loans.pivot_table(index='grade', columns='status', \n",
    "                                aggfunc=lambda x: len(x), margins=True)\n",
    "print(crosstab)"
   ]
  },
  {
   "cell_type": "code",
   "execution_count": 39,
   "id": "6ecceb44",
   "metadata": {},
   "outputs": [
    {
     "name": "stdout",
     "output_type": "stream",
     "text": [
      "status  Charged Off   Current  Fully Paid      Late       All\n",
      "grade                                                        \n",
      "A          0.021548  0.690454    0.281528  0.006470  0.160746\n",
      "B          0.040054  0.709013    0.235401  0.015532  0.293529\n",
      "C          0.049828  0.735702    0.191495  0.022974  0.268039\n",
      "D          0.067410  0.717328    0.184189  0.031073  0.164708\n",
      "E          0.081657  0.707936    0.170929  0.039478  0.077177\n",
      "F          0.118258  0.654371    0.180409  0.046962  0.028614\n",
      "G          0.126196  0.614008    0.198396  0.061401  0.007187\n"
     ]
    }
   ],
   "source": [
    "df = crosstab.copy().loc['A':'G',:]\n",
    "df.loc[:,'Charged Off':'Late'] = df.loc[:,'Charged Off':'Late'].div(df['All'], axis=0)\n",
    "df['All'] = df['All'] / sum(df['All'])\n",
    "perc_crosstab = df\n",
    "print(perc_crosstab)"
   ]
  },
  {
   "cell_type": "code",
   "execution_count": 40,
   "id": "831ddf17",
   "metadata": {},
   "outputs": [
    {
     "data": {
      "text/plain": [
       "Text(0.5, 0.98, '')"
      ]
     },
     "execution_count": 40,
     "metadata": {},
     "output_type": "execute_result"
    },
    {
     "data": {
      "image/png": "[encoded data removed]",
      "text/plain": [
       "<Figure size 432x288 with 1 Axes>"
      ]
     },
     "metadata": {
      "needs_background": "light"
     },
     "output_type": "display_data"
    }
   ],
   "source": [
    "# Categorical and Numeric Data\n",
    "airline_stats = pd.read_csv(\"data/airline_stats.csv\")\n",
    "ax = airline_stats.boxplot(by='airline', column='pct_carrier_delay')\n",
    "ax.set_xlabel('')\n",
    "ax.set_ylabel('Daily % of Delayed Flights')\n",
    "plt.suptitle('')"
   ]
  },
  {
   "cell_type": "code",
   "execution_count": 41,
   "id": "c8fed957",
   "metadata": {},
   "outputs": [
    {
     "name": "stderr",
     "output_type": "stream",
     "text": [
      "/home/dtnguyen/.local/lib/python3.8/site-packages/seaborn/_decorators.py:36: FutureWarning: Pass the following variables as keyword args: x, y. From version 0.12, the only valid positional argument will be `data`, and passing other arguments without an explicit keyword will result in an error or misinterpretation.\n",
      "  warnings.warn(\n"
     ]
    },
    {
     "data": {
      "text/plain": [
       "Text(0, 0.5, 'Daily % of Delayed Flights')"
      ]
     },
     "execution_count": 41,
     "metadata": {},
     "output_type": "execute_result"
    },
    {
     "data": {
      "image/png": "[encoded data removed]",
      "text/plain": [
       "<Figure size 432x288 with 1 Axes>"
      ]
     },
     "metadata": {
      "needs_background": "light"
     },
     "output_type": "display_data"
    }
   ],
   "source": [
    "# Violin plots\n",
    "ax = sns.violinplot(airline_stats.airline, airline_stats.pct_carrier_delay,\\\n",
    "                   inner='quartile', color='white')\n",
    "ax.set_xlabel('')\n",
    "ax.set_ylabel('Daily % of Delayed Flights')"
   ]
  },
  {
   "cell_type": "code",
   "execution_count": null,
   "id": "ab1f4c40",
   "metadata": {},
   "outputs": [],
   "source": []
  }
 ],
 "metadata": {
  "kernelspec": {
   "display_name": "Python 3 (ipykernel)",
   "language": "python",
   "name": "python3"
  },
  "language_info": {
   "codemirror_mode": {
    "name": "ipython",
    "version": 3
   },
   "file_extension": ".py",
   "mimetype": "text/x-python",
   "name": "python",
   "nbconvert_exporter": "python",
   "pygments_lexer": "ipython3",
   "version": "3.8.10"
  }
 },
 "nbformat": 4,
 "nbformat_minor": 5
}

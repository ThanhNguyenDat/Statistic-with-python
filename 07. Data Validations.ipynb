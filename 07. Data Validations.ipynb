{
 "cells": [
  {
   "cell_type": "markdown",
   "id": "ce33ffaf",
   "metadata": {},
   "source": [
    "Step 1: Determining data sample\n",
    "\n",
    "Step 2: Validating the database\n",
    "\n",
    "Step 3: Validating the data format"
   ]
  },
  {
   "cell_type": "markdown",
   "id": "8687044d",
   "metadata": {},
   "source": [
    "# Simple Statistical Criterion"
   ]
  },
  {
   "cell_type": "markdown",
   "id": "e33d1b70",
   "metadata": {},
   "source": [
    "# Fourier Series Modeling and SSC"
   ]
  },
  {
   "cell_type": "markdown",
   "id": "a2e2b27e",
   "metadata": {},
   "source": [
    "# Principal Component Analysis and SSC"
   ]
  },
  {
   "cell_type": "code",
   "execution_count": null,
   "id": "fa2e9f32",
   "metadata": {},
   "outputs": [],
   "source": []
  }
 ],
 "metadata": {
  "kernelspec": {
   "display_name": "Python 3 (ipykernel)",
   "language": "python",
   "name": "python3"
  },
  "language_info": {
   "codemirror_mode": {
    "name": "ipython",
    "version": 3
   },
   "file_extension": ".py",
   "mimetype": "text/x-python",
   "name": "python",
   "nbconvert_exporter": "python",
   "pygments_lexer": "ipython3",
   "version": "3.8.10"
  }
 },
 "nbformat": 4,
 "nbformat_minor": 5
}

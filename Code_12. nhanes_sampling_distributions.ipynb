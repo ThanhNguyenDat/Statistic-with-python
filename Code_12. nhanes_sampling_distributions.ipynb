{
 "cells": [
  {
   "cell_type": "markdown",
   "id": "c011643d",
   "metadata": {},
   "source": [
    "## Sampling distributions\n",
    "\n",
    "In this notebook we will use the NHANES data to explore the sampling distributions of statistics.  This is a somewhat more conceptual topic than we have encountered before when working with the NHANES data.  Some of the illustrations covered below are not things that would typically be done in a data analysis, but rather are intended to clarify some important concepts about statistical methods.  However even these methods have their uses in practice, for example the approaches demostrated below can be used to demonstrate how a statistic behaves in a \"nonstandard\" setting, or to assess how much data is needed to answer a question confidently."
   ]
  },
  {
   "cell_type": "code",
   "execution_count": 1,
   "id": "59e00404",
   "metadata": {},
   "outputs": [],
   "source": [
    "%matplotlib inline\n",
    "import matplotlib.pyplot as plt\n",
    "import seaborn as sns\n",
    "import pandas as pd\n",
    "import numpy as np"
   ]
  },
  {
   "cell_type": "markdown",
   "id": "fab60333",
   "metadata": {},
   "source": [
    "In the cell below, we read the data from a local file:"
   ]
  },
  {
   "cell_type": "code",
   "execution_count": 2,
   "id": "98872c2f",
   "metadata": {},
   "outputs": [],
   "source": [
    "da = pd.read_csv(\"nhanes_2015_2016.csv\")"
   ]
  },
  {
   "cell_type": "markdown",
   "id": "faad9c3b",
   "metadata": {},
   "source": [
    "### Sampling distribution of the mean\n",
    "\n",
    "Sampling distributions describe how the value of a statistic computed from data varies when repeated samples of data are obtained.  This can be explored mathematically, or by using a computer to simulate data repeatedly from a hypothetical population.  When working with non-simulated data (i.e. from a study like NHANES), we usually do not have the ability to explicitly obtain an \"independent copy\" of the sample to actually \"see\" its sampling distribution.  However we can \"subsample\" from a dataset to mimic what would happen if we were to sample repeatedly from the population that produced it.  A subsample is a random sample drawn from a larger data set, containing only a fraction of its observations.\n",
    "\n",
    "In the notebook cell below, we repeatedly subsample two disjoint subsets of size 100 from the NHANES data, calculate the mean systolic blood pressure within each of these two subsets, then calculate the difference between these two means.  This difference reflects the \"chance variation\" that would have been observed if the NHANES project had only had the resources to sample 100 participants for their study.  By sampling two subsets of size 100 and comparing the resulting calculated means, we can see how the findings of two researchers independently studying the same population might differ from each other by chance.  \n",
    "\n",
    "The subsampling process described above is then repeated 1000 times, so we can see how two samples of size 100 from the NHANES population tend to differ in terms of their mean systolic blood pressure.\n"
   ]
  },
  {
   "cell_type": "code",
   "execution_count": 3,
   "id": "11e53d71",
   "metadata": {},
   "outputs": [],
   "source": [
    "m = 100 # Subsample size\n",
    "sbp_diff = [] # Storage for our subsample mean differences\n",
    "\n",
    "for i in range(1000):\n",
    "    dx = da.sample(2*m)  # We need two subsamples of size m\n",
    "    dx1 = dx.iloc[0:m, :]  # First subsample\n",
    "    dx2 = dx.iloc[m:, :]  # Second subsample\n",
    "    sbp_diff.append(dx1.BPXSY1.mean() - dx2.BPXSY1.mean())  # The difference of mean BPXSY1 values"
   ]
  },
  {
   "cell_type": "markdown",
   "id": "d3946e29",
   "metadata": {},
   "source": [
    "Next we look at the histogram of the 1000 mean differences generated above.  We see that they typically fall between negative 5 and positive 5.  This means that two researchers independently studying blood pressure in the same population may by chance obtain results that are up to around 5 units different, but are quite unlikely to obtain results that are by chance more than 10 units different."
   ]
  },
  {
   "cell_type": "code",
   "execution_count": 4,
   "id": "007307c2",
   "metadata": {},
   "outputs": [
    {
     "name": "stderr",
     "output_type": "stream",
     "text": [
      "C:\\Users\\84766\\AppData\\Roaming\\Python\\Python37\\site-packages\\seaborn\\distributions.py:2619: FutureWarning: `distplot` is a deprecated function and will be removed in a future version. Please adapt your code to use either `displot` (a figure-level function with similar flexibility) or `histplot` (an axes-level function for histograms).\n",
      "  warnings.warn(msg, FutureWarning)\n"
     ]
    },
    {
     "data": {
      "text/plain": [
       "<matplotlib.axes._subplots.AxesSubplot at 0x1f37e50a748>"
      ]
     },
     "execution_count": 4,
     "metadata": {},
     "output_type": "execute_result"
    },
    {
     "data": {
      "image/png": "[encoded data removed]",
      "text/plain": [
       "<Figure size 432x288 with 1 Axes>"
      ]
     },
     "metadata": {
      "needs_background": "light"
     },
     "output_type": "display_data"
    }
   ],
   "source": [
    "sns.distplot(sbp_diff)"
   ]
  },
  {
   "cell_type": "markdown",
   "id": "9ae9ac99",
   "metadata": {},
   "source": [
    "In the cell below, we look at some numerical statistics of the histogram plotted above."
   ]
  },
  {
   "cell_type": "code",
   "execution_count": 5,
   "id": "dd46c220",
   "metadata": {},
   "outputs": [
    {
     "data": {
      "text/plain": [
       "count    1000.000000\n",
       "mean        0.009620\n",
       "std         2.701299\n",
       "min        -9.129433\n",
       "25%        -1.751680\n",
       "50%         0.011228\n",
       "75%         1.815086\n",
       "max         7.968911\n",
       "dtype: float64"
      ]
     },
     "execution_count": 5,
     "metadata": {},
     "output_type": "execute_result"
    }
   ],
   "source": [
    "pd.Series(sbp_diff).describe()"
   ]
  },
  {
   "cell_type": "markdown",
   "id": "545ec516",
   "metadata": {},
   "source": [
    "The results shown above indicate that the mean systolic blood pressures calculated for two samples each with 100 people will typically differ by around 2.8 mm/Hg (the standard deviation), and will rarely differ by more than 5 mm/Hg.\n",
    "\n",
    "The sample size is a major determinant of the chance fluctuations in any statistic.  Above we used samples of size 100, below we perform the same analysis using samples of size 400. "
   ]
  },
  {
   "cell_type": "code",
   "execution_count": 6,
   "id": "a5543da8",
   "metadata": {},
   "outputs": [
    {
     "name": "stderr",
     "output_type": "stream",
     "text": [
      "C:\\Users\\84766\\AppData\\Roaming\\Python\\Python37\\site-packages\\seaborn\\distributions.py:2619: FutureWarning: `distplot` is a deprecated function and will be removed in a future version. Please adapt your code to use either `displot` (a figure-level function with similar flexibility) or `histplot` (an axes-level function for histograms).\n",
      "  warnings.warn(msg, FutureWarning)\n"
     ]
    },
    {
     "data": {
      "text/plain": [
       "count    1000.000000\n",
       "mean        0.040991\n",
       "std         1.375572\n",
       "min        -4.270521\n",
       "25%        -0.889284\n",
       "50%         0.037767\n",
       "75%         0.974588\n",
       "max         4.587097\n",
       "dtype: float64"
      ]
     },
     "execution_count": 6,
     "metadata": {},
     "output_type": "execute_result"
    },
    {
     "data": {
      "image/png": "[encoded data removed]",
      "text/plain": [
       "<Figure size 432x288 with 1 Axes>"
      ]
     },
     "metadata": {
      "needs_background": "light"
     },
     "output_type": "display_data"
    }
   ],
   "source": [
    "m = 400  # Change the sample size, everything else below is unchanged from the cells above\n",
    "sbp_diff = []\n",
    "\n",
    "for i in range(1000):\n",
    "    dx = da.sample(2*m)\n",
    "    dx1 = dx.iloc[0:m, :]\n",
    "    dx2 = dx.iloc[m:, :]\n",
    "    sbp_diff.append(dx1.BPXSY1.mean() - dx2.BPXSY1.mean())\n",
    "    \n",
    "sns.distplot(sbp_diff)\n",
    "pd.Series(sbp_diff).describe()"
   ]
  },
  {
   "cell_type": "markdown",
   "id": "b69d6dad",
   "metadata": {},
   "source": [
    "We see that with samples of size 400, the standard deviation is around 1.38, which is close to half of what it was when we used samples of size 100.  The smaller standard deviation indicates that the chance flucatations in the mean systolic blood pressure are smaller when we have a larger sample size.  This implies that we are able to estimate the population mean systolic blood pressure with more precision when we have samples of size 400 compared to when we have samples of size 100.\n",
    "\n",
    "Importantly, increasing the sample size by a factor of 4 (from 100 to 400) led to a reduction of the standard deviation by a factor of 2.  This scaling behavior is very common in statistics -- increasing the sample size by a factor of K leads to a reduction in the standard deviation by a factor of sqrt(K).  Thus, for a factor of 4 increase in the sample size we see a factor of 2 reduction in standard deviation.  Similarly, for a factor of 9 increase in the sample size we would typically see a factor of 3 reduction in the standard deviation."
   ]
  },
  {
   "cell_type": "markdown",
   "id": "8b1139cb",
   "metadata": {},
   "source": [
    "### Sampling distribution of the correlation coefficient\n",
    "\n",
    "As discussed in the lectures, many statistics that are more complex than the sample mean behave similarly to the mean in terms of their sampling behavior.  Below we modify the subsampling analysis from above to consider the Pearson correlation coefficient between systolic and diastolic blood pressure.  Note that the standard deviation still drops by approximately a factor of 2 when the sample size increases by a factor of four (from 100 to 400).\n",
    "\n",
    "This short Python program uses nested `for` loops.  The outer loop manages the sample size, and the inner loop obtains 1000 subsamples at a given sample size, calculates correlation coefficients for two subsamples, and records their difference."
   ]
  },
  {
   "cell_type": "code",
   "execution_count": 7,
   "id": "f9147ec3",
   "metadata": {},
   "outputs": [
    {
     "name": "stdout",
     "output_type": "stream",
     "text": [
      "m=100 0.128415171292705 0.1414213562373095\n",
      "m=400 0.06315413552715904 0.07071067811865475\n"
     ]
    }
   ],
   "source": [
    "for m in 100, 400:  # m is the subsample size\n",
    "    sbp_diff = [] # calculate correlation coefficients from independent samples of size m\n",
    "    for i in range(1000):\n",
    "        dx = da.sample(2*m)\n",
    "        dx1 = dx.iloc[0:m, :]\n",
    "        dx2 = dx.iloc[m:, :]\n",
    "        r1 = np.corrcoef(dx1.loc[:, [\"BPXSY1\", \"BPXDI1\"]].dropna().T)\n",
    "        r2 = np.corrcoef(dx2.loc[:, [\"BPXSY1\", \"BPXDI1\"]].dropna().T)\n",
    "        sbp_diff.append(r1 - r2)\n",
    "    print(\"m=%d\" % m, np.std(sbp_diff), np.sqrt(2 / m))    "
   ]
  },
  {
   "cell_type": "markdown",
   "id": "e3461299",
   "metadata": {},
   "source": [
    "The simulation above shows that when the subsample size increases from 100 to 400 (a factor of 4), the standard deviation of the difference between two correlation coefficients decreases by roughly a factor of 2.  The mathematical expression sqrt(2 / m) is an approximation to this standard deviation that can be computed without access to any data. "
   ]
  },
  {
   "cell_type": "markdown",
   "id": "38a9d388",
   "metadata": {},
   "source": [
    "### The shape of sampling distributions"
   ]
  },
  {
   "cell_type": "markdown",
   "id": "937c5353",
   "metadata": {},
   "source": [
    "Above we focused on the magnitude of the difference between a statistic calculated on two independent samples from a population.  Here we focus instead on the shape of the distribution of statistics calculated on subsamples.  As discussed in the lectures, the central limit theorem implies that many (but not all) statistics have approximately normal sampling distributions, even if the underlying data are not close to being normally distributed.\n",
    "\n",
    "We will illustrate this phenomenon using the systolic blood pressure data from the NHANES study.  First we use a histogram to look at the distribution of individual systolic blood pressure values.  Note that it is somewhat right-skewed."
   ]
  },
  {
   "cell_type": "code",
   "execution_count": 8,
   "id": "b4c46e1c",
   "metadata": {},
   "outputs": [
    {
     "name": "stderr",
     "output_type": "stream",
     "text": [
      "C:\\Users\\84766\\AppData\\Roaming\\Python\\Python37\\site-packages\\seaborn\\distributions.py:2619: FutureWarning: `distplot` is a deprecated function and will be removed in a future version. Please adapt your code to use either `displot` (a figure-level function with similar flexibility) or `histplot` (an axes-level function for histograms).\n",
      "  warnings.warn(msg, FutureWarning)\n"
     ]
    },
    {
     "data": {
      "text/plain": [
       "<matplotlib.axes._subplots.AxesSubplot at 0x1f30443a7c8>"
      ]
     },
     "execution_count": 8,
     "metadata": {},
     "output_type": "execute_result"
    },
    {
     "data": {
      "image/png": "[encoded data removed]",
      "text/plain": [
       "<Figure size 432x288 with 1 Axes>"
      ]
     },
     "metadata": {
      "needs_background": "light"
     },
     "output_type": "display_data"
    }
   ],
   "source": [
    "sns.distplot(da.BPXSY1.dropna())"
   ]
  },
  {
   "cell_type": "markdown",
   "id": "ac6eb6c6",
   "metadata": {},
   "source": [
    "Next we calculate 1000 sample means from 1000 subsamples of size 50 and inspect their distribution."
   ]
  },
  {
   "cell_type": "code",
   "execution_count": 9,
   "id": "efb1553a",
   "metadata": {},
   "outputs": [
    {
     "name": "stderr",
     "output_type": "stream",
     "text": [
      "C:\\Users\\84766\\AppData\\Roaming\\Python\\Python37\\site-packages\\seaborn\\distributions.py:2619: FutureWarning: `distplot` is a deprecated function and will be removed in a future version. Please adapt your code to use either `displot` (a figure-level function with similar flexibility) or `histplot` (an axes-level function for histograms).\n",
      "  warnings.warn(msg, FutureWarning)\n"
     ]
    },
    {
     "data": {
      "text/plain": [
       "[<matplotlib.lines.Line2D at 0x1f382213148>]"
      ]
     },
     "execution_count": 9,
     "metadata": {},
     "output_type": "execute_result"
    },
    {
     "data": {
      "image/png": "[encoded data removed]",
      "text/plain": [
       "<Figure size 432x288 with 1 Axes>"
      ]
     },
     "metadata": {
      "needs_background": "light"
     },
     "output_type": "display_data"
    }
   ],
   "source": [
    "m = 50\n",
    "sbp_mean = []\n",
    "for i in range(1000):\n",
    "    dx = da.sample(m)\n",
    "    sbp_mean.append(dx.BPXSY1.dropna().mean())\n",
    "sns.distplot(sbp_mean)\n",
    "\n",
    "# The lines below plot the density of a normal approximation to the data generated above\n",
    "x = np.linspace(np.min(sbp_mean), np.max(sbp_mean), 100)\n",
    "from scipy.stats.distributions import norm\n",
    "y = norm.pdf(x, np.mean(sbp_mean), np.std(sbp_mean))\n",
    "plt.plot(x, y, color='orange')"
   ]
  },
  {
   "cell_type": "markdown",
   "id": "d261f619",
   "metadata": {},
   "source": [
    "The plots above show that while the distribution of individual systolic blood pressure measures is somewhat skewed to the right, the distribution of means of size 50 is approximately symmetric.  The distribution of means is also approximately normal, as shown by the orange curve, which is the best-fitting normal approximation to the data."
   ]
  },
  {
   "cell_type": "code",
   "execution_count": null,
   "id": "71b4d09b",
   "metadata": {},
   "outputs": [],
   "source": []
  }
 ],
 "metadata": {
  "kernelspec": {
   "display_name": "Python 3 (ipykernel)",
   "language": "python",
   "name": "python3"
  },
  "language_info": {
   "codemirror_mode": {
    "name": "ipython",
    "version": 3
   },
   "file_extension": ".py",
   "mimetype": "text/x-python",
   "name": "python",
   "nbconvert_exporter": "python",
   "pygments_lexer": "ipython3",
   "version": "3.7.9"
  }
 },
 "nbformat": 4,
 "nbformat_minor": 5
}
